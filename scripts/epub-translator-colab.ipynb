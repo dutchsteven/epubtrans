{
 "cells": [
  {
   "cell_type": "markdown",
   "metadata": {
    "id": "h3Ar4v3zWjku"
   },
   "source": [
    "# Epub Translator Colab Notebook\n",
    "\n",
    "This notebook allows you to use the Epub Translator tool to quickly translate epub books into bilingual book. The tool is designed to maintain the original text format while providing a rough translation.\n",
    "\n",
    "To support my work please consider make donation: [Via Paypal](https://paypal.me/duocnguyen)"
   ]
  },
  {
   "cell_type": "markdown",
   "metadata": {
    "id": "aCkpm80pWjkw"
   },
   "source": [
    "## Setup\n",
    "\n",
    "First, let's install the necessary dependencies and the Epub Translator tool."
   ]
  },
  {
   "cell_type": "code",
   "execution_count": null,
   "metadata": {
    "id": "dy8NhxVPWjkx"
   },
   "outputs": [],
   "source": [
    "# Install Epub Translator\n",
    "!curl -fsSL https://raw.githubusercontent.com/nguyenvanduocit/epubtrans/main/scripts/install_unix.sh | bash\n",
    "\n",
    "# Verify installation\n",
    "!epubtrans --version"
   ]
  },
  {
   "cell_type": "markdown",
   "metadata": {
    "id": "uFLYwdy7Wjky"
   },
   "source": [
    "## Set up Anthropic API Key\n",
    "\n",
    "To use the translation feature, you need to set up your Anthropic API key. Input your "
   ]
  },
  {
   "cell_type": "code",
   "execution_count": null,
   "metadata": {
    "id": "rQb34DI_Wjkz"
   },
   "outputs": [],
   "source": [
    "import os\n",
    "from getpass import getpass\n",
    "anthropic_key = getpass('Enter your Anthropic API key: ')\n",
    "os.environ['ANTHROPIC_KEY'] = anthropic_key"
   ]
  },
  {
   "cell_type": "markdown",
   "metadata": {
    "id": "jE23DK-4Wjkz"
   },
   "source": [
    "## Upload EPUB File\n",
    "\n",
    "1. Run the code block below.\n",
    "2. Click on \"Choose Files\" when prompted.\n",
    "3. Select your EPUB file.\n",
    "4. Click \"Upload\" to complete the process."
   ]
  },
  {
   "cell_type": "code",
   "execution_count": null,
   "metadata": {
    "id": "2EOJmXlXWjkz"
   },
   "outputs": [],
   "source": [
    "from google.colab import files\n",
    "uploaded = files.upload()\n",
    "\n",
    "epub_filename = next(iter(uploaded))\n",
    "print(f\"Uploaded file: {epub_filename}\")"
   ]
  },
  {
   "cell_type": "markdown",
   "metadata": {
    "id": "LVBI-5ycWjk0"
   },
   "source": [
    "## Translate the Book\n",
    "\n",
    "Now, let's go through the steps to translate the book."
   ]
  },
  {
   "cell_type": "markdown",
   "metadata": {
    "id": "1g97zCoMWjk0"
   },
   "source": "### 1. Unpack the epub file"
  },
  {
   "cell_type": "code",
   "execution_count": null,
   "metadata": {
    "id": "Cnb-krkbWjk0"
   },
   "outputs": [],
   "source": [
    "!epubtrans unpack \"{epub_filename}\"\n",
    "unpacked_dir = epub_filename.rsplit('.', 1)[0]"
   ]
  },
  {
   "cell_type": "markdown",
   "metadata": {
    "id": "VYhfFS9BWjk1"
   },
   "source": [
    "### 2. Clean up HTML files\n",
    "\n",
    "Clean unwanted HTML code that might break the book."
   ]
  },
  {
   "cell_type": "code",
   "execution_count": null,
   "metadata": {
    "id": "vZf1FyFTWjk1"
   },
   "outputs": [],
   "source": "!epubtrans clean \"{unpacked_dir}\""
  },
  {
   "cell_type": "markdown",
   "metadata": {
    "id": "MUBI8O3RWjk1"
   },
   "source": [
    "### 3. Mark content for translation\n",
    "\n",
    "Find all text content in the book and mark which text should be translated or not."
   ]
  },
  {
   "cell_type": "code",
   "execution_count": null,
   "metadata": {
    "id": "aCqqcQZaWjk1"
   },
   "outputs": [],
   "source": [
    "!epubtrans mark \"{unpacked_dir}\""
   ]
  },
  {
   "cell_type": "markdown",
   "metadata": {
    "id": "k5Nw6CSjWjk1"
   },
   "source": [
    "### 4. Translate marked content\n",
    "\n",
    "Start translating the marked content. This will take a lot of time, be patient."
   ]
  },
  {
   "cell_type": "code",
   "execution_count": null,
   "metadata": {
    "id": "WC1WshrCWjk2"
   },
   "outputs": [],
   "source": [
    "!epubtrans translate \"{unpacked_dir}\" --source English --target Vietnamese"
   ]
  },
  {
   "cell_type": "markdown",
   "metadata": {
    "id": "YrD_wcbHWjk2"
   },
   "source": [
    "### 5. (Optional) Style Adjustment\n",
    "\n",
    "This step allows you to modify the visibility of the original text:\n",
    "\n",
    "- To fade the original text, enhancing the translated version's visibility, run this block.\n",
    "- To completely hide the original text, add the `--hide=source` option."
   ]
  },
  {
   "cell_type": "code",
   "execution_count": null,
   "metadata": {
    "id": "pS18UppCWjk2"
   },
   "outputs": [],
   "source": [
    "!epubtrans styling \"{unpacked_dir}\""
   ]
  },
  {
   "cell_type": "markdown",
   "metadata": {
    "id": "5aWJthdsWjk2"
   },
   "source": [
    "### 6. Package into a bilingual book"
   ]
  },
  {
   "cell_type": "code",
   "execution_count": null,
   "metadata": {
    "id": "aT8r3aWhWjk2"
   },
   "outputs": [],
   "source": [
    "!epubtrans pack \"{unpacked_dir}\""
   ]
  },
  {
   "cell_type": "markdown",
   "metadata": {
    "id": "Zt7LGTm2Wjk2"
   },
   "source": [
    "## Download the Translated Book\n",
    "\n",
    "After the translation process is complete, you can download the translated book using the following code:"
   ]
  },
  {
   "cell_type": "code",
   "execution_count": null,
   "metadata": {
    "id": "h_B3NjojWjk3"
   },
   "outputs": [],
   "source": [
    "import os\n",
    "import re\n",
    "from IPython.display import FileLink, display\n",
    "\n",
    "# Function to extract the number from the filename\n",
    "def extract_number(filename):\n",
    "    match = re.search(r'\\((\\d+)\\)', filename)\n",
    "    return int(match.group(1)) if match else 0\n",
    "\n",
    "# Get all files in the current directory\n",
    "epubFiles = [f for f in os.listdir('.') if f.startswith(f\"{unpacked_dir}-bilangual\") and f.endswith('.epub')]\n",
    "\n",
    "if not epubFiles:\n",
    "    print(\"No matching files found.\")\n",
    "else:\n",
    "    # Sort files based on the number in parentheses (if present)\n",
    "    latest_file = max(epubFiles, key=extract_number)\n",
    "\n",
    "    print(f\"Latest file: {latest_file}\")\n",
    "    files.download(latest_file)"
   ]
  },
  {
   "cell_type": "markdown",
   "metadata": {
    "id": "OAsp-FhwWjk3"
   },
   "source": [
    "## Important Notes\n",
    "\n",
    "1. The quality of translation depends on the Anthropic API and may not be perfect for all types of content.\n",
    "2. Large books may take a considerable amount of time to translate.\n",
    "3. Make sure to keep your Anthropic API key confidential and do not share it publicly.\n",
    "4. This notebook provides a basic workflow. For more advanced usage or troubleshooting, refer to the [Epub Translator GitHub repository](https://github.com/nguyenvanduocit/epubtrans).\n",
    "\n",
    "Feel free to modify this notebook to suit your specific needs or to experiment with different options provided by the Epub Translator tool."
   ]
  }
 ],
 "metadata": {
  "colab": {
   "provenance": []
  },
  "kernelspec": {
   "display_name": "Python 3",
   "name": "python3"
  },
  "language_info": {
   "name": "python"
  }
 },
 "nbformat": 4,
 "nbformat_minor": 0
}
