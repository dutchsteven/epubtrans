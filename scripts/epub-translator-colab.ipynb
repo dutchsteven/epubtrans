{
 "cells": [
  {
   "cell_type": "markdown",
   "metadata": {
    "id": "h3Ar4v3zWjku"
   },
   "source": [
    "# Epub Translator Colab Notebook\n",
    "\n",
    "This notebook allows you to use the Epub Translator tool to quickly translate epub books into bilingual book. The tool is designed to maintain the original text format while providing a rough translation.\n",
    "\n",
    "To support my work please consider make donation: [Via Paypal](https://paypal.me/duocnguyen)"
   ]
  },
  {
   "cell_type": "markdown",
   "metadata": {
    "id": "aCkpm80pWjkw"
   },
   "source": [
    "## Setup\n",
    "\n",
    "First, let's install the necessary dependencies and the Epub Translator tool."
   ]
  },
  {
   "cell_type": "code",
   "execution_count": null,
   "metadata": {
    "id": "dy8NhxVPWjkx",
    "jupyter": {
     "is_executing": true
    }
   },
   "outputs": [],
   "source": [
    "# Install Epub Translator\n",
    "!curl -fsSL https://raw.githubusercontent.com/nguyenvanduocit/epubtrans/main/scripts/install_unix.sh | bash\n",
    "\n",
    "# Verify installation\n",
    "!epubtrans --version\n",
    "\n",
    "workingDir = !pwd"
   ]
  },
  {
   "cell_type": "markdown",
   "metadata": {
    "id": "uFLYwdy7Wjky"
   },
   "source": [
    "## Set up Anthropic API Key\n",
    "\n",
    "To use the translation feature, you need to set up your Anthropic API key. Input your"
   ]
  },
  {
   "cell_type": "code",
   "execution_count": null,
   "metadata": {
    "id": "rQb34DI_Wjkz"
   },
   "outputs": [],
   "source": [
    "import os\n",
    "from getpass import getpass\n",
    "anthropic_key = getpass('Enter your Anthropic API key: ')\n",
    "os.environ['ANTHROPIC_KEY'] = anthropic_key"
   ]
  },
  {
   "cell_type": "markdown",
   "metadata": {
    "id": "uaW5SZr3rBtK"
   },
   "source": [
    "## Connect google drive\n",
    "\n",
    "This step is optional, if connect, you can open/save file directly to your drive"
   ]
  },
  {
   "cell_type": "code",
   "execution_count": null,
   "metadata": {
    "id": "hdCBLyxkrKoQ"
   },
   "outputs": [],
   "source": [
    "from google.colab import drive\n",
    "\n",
    "# Mount Google Drive\n",
    "drive.mount('/content/drive')\n",
    "\n",
    "# Define the fixed path\n",
    "fixed_path = '/content/drive/My Drive/books'\n",
    "\n",
    "# Check if the directory exists, if not, create it\n",
    "if not os.path.exists(fixed_path):\n",
    "    os.makedirs(fixed_path)\n",
    "    print(f\"Created directory: {fixed_path}\")\n",
    "else:\n",
    "    print(f\"Directory already exists: {fixed_path}\")\n",
    "\n",
    "# Print the absolute path\n",
    "working_dir = os.path.abspath(fixed_path)\n",
    "print(working_dir)"
   ]
  },
  {
   "cell_type": "markdown",
   "metadata": {
    "id": "jE23DK-4Wjkz"
   },
   "source": [
    "## Upload EPUB File\n",
    "\n",
    "1. Run the code block below.\n",
    "2. Click on \"Choose Files\" when prompted.\n",
    "3. Select your EPUB file."
   ]
  },
  {
   "cell_type": "code",
   "execution_count": null,
   "metadata": {
    "id": "2EOJmXlXWjkz"
   },
   "outputs": [],
   "source": [
    "from google.colab import files\n",
    "import os\n",
    "\n",
    "print(f\"Uploading file to working directory: {working_dir}\")\n",
    "\n",
    "uploaded = files.upload()\n",
    "epub_filename = None\n",
    "unpacked_dir = None\n",
    "epub_file_path = None\n",
    "\n",
    "if not uploaded:\n",
    "    print(\"No file was uploaded.\")\n",
    "else:\n",
    "    # Get the filename of the uploaded file\n",
    "    original_filename = next(iter(uploaded))\n",
    "\n",
    "    # Extract the base name without any added numbers\n",
    "    base_name, extension = os.path.splitext(original_filename)\n",
    "    base_name = base_name.rstrip('0123456789')\n",
    "    epub_filename = f\"{base_name}{extension}\"\n",
    "\n",
    "    # Check if the file has .epub extension\n",
    "    if not epub_filename.lower().endswith('.epub'):\n",
    "        print(f\"Error: {epub_filename} is not an EPUB file. Please upload only EPUB files.\")\n",
    "    else:\n",
    "        # Create the name for the unpacked directory\n",
    "        unpacked_dir = os.path.join(working_dir, base_name)\n",
    "\n",
    "        # Create full path for the uploaded file\n",
    "        epub_file_path = os.path.join(working_dir, epub_filename)\n",
    "\n",
    "        # Check if the file already exists\n",
    "        if os.path.exists(epub_file_path):\n",
    "            print(f\"File {epub_filename} already exists in {working_dir}. Skipping upload.\")\n",
    "        else:\n",
    "            # Save the uploaded file to the working directory with the original name\n",
    "            with open(epub_file_path, 'wb') as f:\n",
    "                f.write(uploaded[original_filename])\n",
    "\n",
    "            print(f\"Uploaded file: {original_filename}\")\n",
    "            print(f\"Saved as: {epub_filename}\")\n",
    "            print(f\"Saved to: {epub_file_path}\")\n",
    "\n",
    "        print(f\"Unpacked directory name will be: {unpacked_dir}\")"
   ]
  },
  {
   "cell_type": "markdown",
   "metadata": {
    "id": "LVBI-5ycWjk0"
   },
   "source": [
    "## Prepare\n",
    "\n",
    "Now, let's go through the steps to translate the book."
   ]
  },
  {
   "cell_type": "code",
   "execution_count": null,
   "metadata": {
    "id": "nVTC_2JpiN9i"
   },
   "outputs": [],
   "source": [
    "print(f\"unpacking to : {unpacked_dir}\")\n",
    "!epubtrans unpack \"{epub_file_path}\"\n",
    "\n",
    "print(f\"cleaning : {unpacked_dir}\")\n",
    "!epubtrans clean \"{unpacked_dir}\"\n",
    "\n",
    "print(f\"marking : {unpacked_dir}\")\n",
    "!epubtrans mark \"{unpacked_dir}\""
   ]
  },
  {
   "cell_type": "markdown",
   "metadata": {
    "id": "JZ3edshbiZBC"
   },
   "source": [
    "## Translate\n",
    "\n",
    "This code can be run multiple times without overwriting previous translations. It will continue to translate any missing text each time it is executed. Feel free to run the translation process repeatedly as needed."
   ]
  },
  {
   "cell_type": "code",
   "execution_count": null,
   "metadata": {
    "id": "9pbSQVvPieEl"
   },
   "outputs": [],
   "source": [
    "!epubtrans translate \"{unpacked_dir}\" --source English --target Vietnamese"
   ]
  },
  {
   "cell_type": "markdown",
   "metadata": {
    "id": "YrD_wcbHWjk2"
   },
   "source": [
    "### 5. (Optional) Style Adjustment\n",
    "\n",
    "This step allows you to modify the visibility of the original text:\n",
    "\n",
    "- To fade the original text, enhancing the translated version's visibility, run this block.\n",
    "- To completely hide the original text, add the `--hide=source` option."
   ]
  },
  {
   "cell_type": "code",
   "execution_count": null,
   "metadata": {
    "id": "pS18UppCWjk2"
   },
   "outputs": [],
   "source": [
    "!epubtrans styling \"{unpacked_dir}\""
   ]
  },
  {
   "cell_type": "markdown",
   "metadata": {
    "id": "5aWJthdsWjk2"
   },
   "source": [
    "### 6. Package into a bilingual book"
   ]
  },
  {
   "cell_type": "code",
   "execution_count": null,
   "metadata": {
    "id": "aT8r3aWhWjk2"
   },
   "outputs": [],
   "source": [
    "!epubtrans pack \"{unpacked_dir}\""
   ]
  },
  {
   "cell_type": "markdown",
   "metadata": {
    "id": "Zt7LGTm2Wjk2"
   },
   "source": [
    "## Download the Translated Book\n",
    "\n",
    "After the translation process is complete, you can download the translated book using the following code:"
   ]
  },
  {
   "cell_type": "code",
   "execution_count": null,
   "metadata": {
    "id": "h_B3NjojWjk3"
   },
   "outputs": [],
   "source": [
    "import re\n",
    "\n",
    "# Function to extract the number from the filename\n",
    "def extract_number(filename):\n",
    "    match = re.search(r'\\((\\d+)\\)', filename)\n",
    "    return int(match.group(1)) if match else 0\n",
    "\n",
    "# Get all files in the current directory\n",
    "epubFiles = [f for f in os.listdir('.') if f.startswith(f\"{unpacked_dir}-bilangual\") and f.endswith('.epub')]\n",
    "\n",
    "if not epubFiles:\n",
    "    print(\"No matching files found.\")\n",
    "else:\n",
    "    # Sort files based on the number in parentheses (if present)\n",
    "    latest_file = max(epubFiles, key=extract_number)\n",
    "\n",
    "    print(f\"Latest file: {latest_file}\")\n",
    "    files.download(latest_file)"
   ]
  },
  {
   "cell_type": "markdown",
   "metadata": {
    "id": "OAsp-FhwWjk3"
   },
   "source": [
    "## Important Notes\n",
    "\n",
    "1. The quality of translation depends on the Anthropic API and may not be perfect for all types of content.\n",
    "2. Large books may take a considerable amount of time to translate.\n",
    "3. Make sure to keep your Anthropic API key confidential and do not share it publicly.\n",
    "4. This notebook provides a basic workflow. For more advanced usage or troubleshooting, refer to the [Epub Translator GitHub repository](https://github.com/nguyenvanduocit/epubtrans).\n",
    "\n",
    "Feel free to modify this notebook to suit your specific needs or to experiment with different options provided by the Epub Translator tool."
   ]
  }
 ],
 "metadata": {
  "colab": {
   "provenance": []
  },
  "kernelspec": {
   "display_name": "Python 3",
   "name": "python3"
  },
  "language_info": {
   "name": "python",
   "version": "3.11.3"
  }
 },
 "nbformat": 4,
 "nbformat_minor": 0
}
